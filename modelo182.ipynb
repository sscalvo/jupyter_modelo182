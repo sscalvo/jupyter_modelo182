{
 "cells": [
  {
   "cell_type": "markdown",
   "metadata": {
    "colab_type": "text",
    "id": "dUC_SFmwxHvc"
   },
   "source": [
    "<div align=\"center\">\n",
    "\n",
    "<h1><font color='#fd7317'>Generación del modelo 182 a partir de los datos del fichero CSV de CALM</font></h1>\n",
    "<h3><font color='#999999'>(para la FPV)</font></h3>\n",
    "<img  width=\"100\" src=\"https://www.hacienda.gob.es/es-ES/Prensa/En%20Portada/2020/PublishingImages/20181307_AEAT.jpg\" />\n",
    "</div>"
   ]
  },
  {
   "cell_type": "markdown",
   "metadata": {},
   "source": [
    "### Imports"
   ]
  },
  {
   "cell_type": "code",
   "execution_count": 23,
   "metadata": {
    "colab": {},
    "colab_type": "code",
    "id": "MnxW8cRYwxuA"
   },
   "outputs": [],
   "source": [
    "#Code tells you how; Comments tell you why.\"\n",
    "#Esto es un cuaderno jupyter alojado en https://github.com/sscalvo/jupyter_modelo182\n",
    "import pandas as pd\n",
    "from matplotlib import pyplot as plt\n",
    "import numpy as np\n",
    "import datetime\n",
    "\n",
    "import unidecode\n",
    "import codecs"
   ]
  },
  {
   "cell_type": "markdown",
   "metadata": {},
   "source": [
    "### Definicion de Funciones propias ```validate_DNI_NIE()``` ```extract_DNI_dana()```"
   ]
  },
  {
   "cell_type": "markdown",
   "metadata": {},
   "source": [
    "Ojo! Verificar que los ficheros pasados a ```extract_DNI_dana()``` no tienen malformaciones: \n",
    "<img src=\"img\\error1.png\" width=\"800\">"
   ]
  },
  {
   "cell_type": "code",
   "execution_count": 24,
   "metadata": {
    "colab": {},
    "colab_type": "code",
    "id": "0hZuYKXCDnqz"
   },
   "outputs": [],
   "source": [
    "def validate_DNI_NIE(dni):\n",
    "    '''\n",
    "   Valida el documento, tanto extranjero como nacional\n",
    "\n",
    "   :param: str filename: file name of the exported mod182 file \n",
    "   :return: True si es un fichero válido, False en caso contrario\n",
    "   '''\n",
    "    tabla = \"TRWAGMYFPDXBNJZSQVHLCKE\"\n",
    "    dig_ext = \"XYZ\"\n",
    "    reemp_dig_ext = {'X':'0', 'Y':'1', 'Z':'2'}\n",
    "    numeros = \"1234567890\"\n",
    "    dni = str(dni)\n",
    "    dni = dni.upper()\n",
    "    if len(dni) == 9:\n",
    "        dig_control = dni[8]\n",
    "        dni = dni[:8]\n",
    "        if dni[0] in dig_ext:\n",
    "            dni = dni.replace(dni[0], reemp_dig_ext[dni[0]])\n",
    "        return len(dni) == len([n for n in dni if n in numeros]) \\\n",
    "            and tabla[int(dni)%23] == dig_control\n",
    "    return False\n",
    "\n",
    "\n",
    "def extract_DNI_dana(filename, columns=[\"dni\", \"dana\"]):\n",
    "    '''\n",
    "   Extracts DNI and dana from an 'oficial' modelo182 file\n",
    "\n",
    "   :param str filename: file name of the exported mod182 file \n",
    "   :return: dataframe with columns [\"dni\", \"dana\"]\n",
    "   '''\n",
    "    dfprev = pd.read_csv(r'.\\modelo182\\\\' + filename, skiprows=1, header=None)\n",
    "    dni = dfprev[0].str[17:26] # dni\n",
    "    dana = (dfprev.iloc[:, 0].str[84:96]).astype(float) / 100 # donation\n",
    "    aux = pd.concat([dni, dana], axis=1)\n",
    "    aux.columns = columns\n",
    "    return aux\n",
    "    \n",
    "\n",
    "def unidecode_fallback(e):\n",
    "    part = e.object[e.start:e.end]\n",
    "    usuarios_error[e.start //251 +1] = part\n",
    "    # print('💔' + \"se ha liado: \" + str(e.start) + \" \" + part)\n",
    "    replacement = str(unidecode.unidecode(part) or '?')\n",
    "    return (replacement, e.start + len(part))\n",
    "    \n",
    "    \n"
   ]
  },
  {
   "cell_type": "markdown",
   "metadata": {},
   "source": [
    "### Lectura de los CSV y Declaracion de CONSTANTES"
   ]
  },
  {
   "cell_type": "code",
   "execution_count": 25,
   "metadata": {},
   "outputs": [],
   "source": [
    "# CONSTANTES anuales (actualizar cada año)\n",
    "EJERCICIO = \"2019\"\n",
    "NIF_DECLARANTE = \"G17572108\"\n",
    "DENOMINACION_DECLARANTE = \"FUNDACION PRIVADA VIPASSANA\" # 40 carácteres\n",
    "PERSONA_CONTACTO = \"KARMASS MOHAMED\"                    # 40 carácteres\n",
    "TELEFONO_CONTACTO = \"972426090\"                         #  9 carácteres\n",
    "NUMERO_JUSTIFICANTE_DECLARACION = \"1822628017603\"       # 13 carácteres\n",
    "DECLARACION_COMPLEMENTARIA_O_SUSTITUTIVA = \"  \"         #  2 carácteres\n",
    "ID_DECLARACION_ANTERIOR = '0' * 13                      # 13 carácteres\n",
    "NATURALEZA_DECLARANTE = '1'                             #  1 carácteres\n",
    "NIF_TITULAR_PATRIMONIO = ' ' * 9\n",
    "APELLIDOS_NOMBRE_TITULAR_PATRIMONIO = ' ' * 40\n",
    "\n",
    "\n",
    "# PATHs\n",
    "DIR_DATOS                           = \"modelo182\"\n",
    "FICHERO_CSV_ANIO_ACTUAL             = \"calm4_dana_2019.csv\"\n",
    "FICHERO_EXPORTACION_ANIO_ANTERIOR   = \"exportacion_2018.txt\"\n",
    "FICHERO_EXPORTACION_ANIO_ANTERIOR_2 = \"exportacion_2017.txt\"\n",
    "\n",
    "# CONSTANTES\n",
    "TIPO_REGISTRO = \"1\" \n",
    "MODELO_DECLARACION = \"182\"\n",
    "TIPO_SOPORTE = \"T\" \n",
    "IMPORTE_DONATIVOS = '0' * 15                            # 15 carácteres\n",
    "NUM_TOTAL_REGISTROS_DECLARADOS = '0' * 9                #  9 carácteres\n",
    "BLANCOS = ' ' * 28\n",
    "SELLO_ELECTRONICO = ' ' * 13\n",
    "\n",
    "# Global dict usado para gestión de errores en callback 'unidecode_fallback'\n",
    "usuarios_error = {}   \n",
    "\n",
    "# Load files\n",
    "def load_files():\n",
    "    df = pd.read_csv('.\\\\' + DIR_DATOS + '\\\\' + FICHERO_CSV_ANIO_ACTUAL)\n",
    "    dfyear1 = extract_DNI_dana(FICHERO_EXPORTACION_ANIO_ANTERIOR, columns=[\"dni1\", \"dana1\"])\n",
    "    dfyear2 = extract_DNI_dana(FICHERO_EXPORTACION_ANIO_ANTERIOR_2, columns=[\"dni2\", \"dana2\"])\n",
    "    return (df, dfyear1, dfyear2)"
   ]
  },
  {
   "cell_type": "markdown",
   "metadata": {},
   "source": [
    "### REGISTRO TIPO 1 (pdf Hacienda, pág.2)"
   ]
  },
  {
   "cell_type": "code",
   "execution_count": 26,
   "metadata": {},
   "outputs": [],
   "source": [
    "def reg_tipo1():\n",
    "    # Algunos campos necesitan ser calculados\n",
    "    count = df.shape[0] \n",
    "    NUM_TOTAL_REGISTROS_DECLARADOS = '{0:0>9}'.format(count)\n",
    "    IMPORTE_DONATIVOS = df[\"Donation Amount\"].str[:-2].str.replace(\".\",\"\").str.replace(\",\", \".\").astype(float).sum()\n",
    "\n",
    "    linea1  = TIPO_REGISTRO + MODELO_DECLARACION + EJERCICIO + NIF_DECLARANTE + '{0:<40}'.format(DENOMINACION_DECLARANTE)\n",
    "    linea1 += TIPO_SOPORTE + '{0:<9}'.format(TELEFONO_CONTACTO) + '{0:<40}'.format(PERSONA_CONTACTO)\n",
    "    linea1 += '{0:<13}'.format(NUMERO_JUSTIFICANTE_DECLARACION) + DECLARACION_COMPLEMENTARIA_O_SUSTITUTIVA\n",
    "    linea1 += ID_DECLARACION_ANTERIOR + NUM_TOTAL_REGISTROS_DECLARADOS \n",
    "    linea1 += '{0:013.0f}'.format(IMPORTE_DONATIVOS) + '{0:.2f}'.format(IMPORTE_DONATIVOS)[-2:]\n",
    "    linea1 += NATURALEZA_DECLARANTE + NIF_TITULAR_PATRIMONIO + APELLIDOS_NOMBRE_TITULAR_PATRIMONIO\n",
    "    linea1 += BLANCOS + SELLO_ELECTRONICO\n",
    "    return linea1"
   ]
  },
  {
   "cell_type": "markdown",
   "metadata": {},
   "source": [
    "### REGISTROS TIPO 2 (pdf Hacienda, pág.9)"
   ]
  },
  {
   "cell_type": "code",
   "execution_count": 27,
   "metadata": {
    "colab": {
     "base_uri": "https://localhost:8080/",
     "height": 73,
     "resources": {
      "http://localhost:8080/nbextensions/google.colab/files.js": {
       "data": "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",
       "headers": [
        [
         "content-type",
         "application/javascript"
        ]
       ],
       "ok": true,
       "status": 200,
       "status_text": ""
      }
     }
    },
    "colab_type": "code",
    "id": "KMMM4X3Yw-oH",
    "outputId": "cca72361-ea12-4b3b-c9c2-12ac4591b0b3"
   },
   "outputs": [],
   "source": [
    "def reg_tipo2():\n",
    "    count = df.shape[0] \n",
    "    # REGISTROS TIPO 2 (pdf Hacienda, pág.9)\n",
    "    row_beginning = \"2\" + MODELO_DECLARACION + EJERCICIO + NIF_DECLARANTE\n",
    "\n",
    "    #Creacion e inicialización del DataFrame resultado\n",
    "    #TIPO_DE_REGISTRO + MODELO_DECLARACION + EJERCICIO + NIF_DECLARANTE\n",
    "    dflineas2 = pd.DataFrame(data=np.array([row_beginning] * count), columns=['Tipo2'], index=range(0,count))\n",
    "\n",
    "    # 18-26 NIF_DECLARADO\n",
    "    # @rosaura Poner dnis invalidos en blanco (' '*9)\n",
    "    # Antes de aplicar 'validateDNI_NIE', eliminar ruido y sanear:\n",
    "    dfaux = pd.DataFrame()\n",
    "    dfaux[\"tmp\"] = df[\"National Id\"].str.replace(r'[\\.\\-\\s\\_]+', '', regex=True)\n",
    "    dfaux[\"tmp\"] = dfaux[\"tmp\"].str.upper()\n",
    "    # Validar los DNIs..\n",
    "    dni_mask = dfaux[\"tmp\"].apply(validate_DNI_NIE) \n",
    "    # ..para poder poner los incorrectos en blanco\n",
    "    dfaux.loc[~dni_mask, [\"tmp\"]] = ' ' * 9\n",
    "    dflineas2[\"Tipo2\"] += dfaux[\"tmp\"]\n",
    "    dflineas2.loc[2, \"Tipo2\"]\n",
    "\n",
    "    # 25-37 NIF REPRESENTANTE LEGAL\n",
    "    dflineas2[\"Tipo2\"] += ' ' * 9\n",
    "\n",
    "    # 36-75 APELLIDOS Y NOMBRE \n",
    "    dfaux[\"Tipo2\"] = df[\"Family Name\"].str.strip()  + ' ' + df[\"Given Name\"].str.strip()\n",
    "    dflineas2[\"Tipo2\"] += ((dfaux[\"Tipo2\"].str.upper()).str.ljust(40).str[:40])\n",
    "\n",
    "    # 76-77 CODIGO DE PROVINCIA\n",
    "    dfprov = pd.read_csv(r\".\\modelo182\\provincias.tsv\", sep='\\t', dtype=str) # tab sepparated values\n",
    "    # MANY_TO_ONE MERGE\n",
    "    dfaux = df.merge(dfprov, how=\"left\",left_on=\"Address State\", right_on=\"Provincia\")\n",
    "    mask_nan = pd.isna(dfaux[\"Codigo\"])   \n",
    "    dfaux.loc[mask_nan, \"Codigo\"] = \"99\" # Codigo por defecto para extranjeros\n",
    "    #dfaux[\"Codigo\"] = dfaux[\"Codigo\"].astype(int) #merge ha dejado decimales '.0'\n",
    "    dflineas2[\"Tipo2\"]   += dfaux[\"Codigo\"]\n",
    "\n",
    "    # 78 CLAVE\n",
    "    dflineas2[\"Tipo2\"]   += 'A'\n",
    "\n",
    "    # 79-83 PORCENTAJE DE DEDUCCION \n",
    "    # La formula corregida =IF((B4>=C4)AND(C4>=D4)AND(D4>0),1,0) \n",
    "    # Donantes que donaron este año y año anterior\n",
    "    dfaux = df.merge(dfyear1, how=\"left\",left_on=\"National Id\", right_on=\"dni1\")\n",
    "    # Donantes que donaron este año y ahace 2 años\n",
    "    dfaux = dfaux.merge(dfyear2, how=\"left\",left_on=\"dni1\", right_on=\"dni2\")\n",
    "    # Limpiar \"Donation Amount\"\n",
    "    dfaux[\"dana0\"] = dfaux[\"Donation Amount\"].str[:-2].str.replace(\".\",\"\").str.replace(\",\", \".\").astype(float)\n",
    "    # Donantes recurrentes (este añe & año pasado & hace 2 años\n",
    "    mask_recurrentes = (~pd.isna(dfaux[\"dni2\"])) & (dfaux[\"dana0\"] >= dfaux[\"dana1\"]) & (dfaux[\"dana1\"] >= dfaux[\"dana2\"]) & (dfaux[\"dana2\"] > 0)\n",
    "    # Apicar CRITERIO % DEDUCCION segun Agencia  Tributaria\n",
    "    dfaux.loc[dfaux[\"dana0\"] < 150, \"deduc\"] = \"075\"\n",
    "    dfaux.loc[dfaux[\"dana0\"] >= 150, \"deduc\"] = \"030\"\n",
    "    dfaux.loc[mask_recurrentes, \"deduc\"] = \"035\"\n",
    "\n",
    "    dflineas2[\"Tipo2\"] += dfaux[\"deduc\"] + \"00\"\n",
    "\n",
    "    # 84-96 IMPORTE (84-94 importe, 95-96 decimales)\n",
    "    dflineas2[\"Tipo2\"] += dfaux[\"dana0\"].map(lambda x: '{0:011.0f}'.format(x))\n",
    "    dflineas2[\"Tipo2\"] += dfaux[\"dana0\"].map(lambda x: '{0:.2f}'.format(x)[-2:])\n",
    "\n",
    "    # 97 EN ESPECIE\n",
    "    dflineas2[\"Tipo2\"] += \" \"\n",
    "\n",
    "    # 98-99 DEDUCCION COMUNIDAD AUTONOMA\n",
    "    # Buena explicacion de Rosaura para este campo y el siguiente\n",
    "    # https://mail.google.com/mail/u/0/#inbox/KtbxLzGSwSkKnwnKzTckLzHcrzvFnzMMJB\n",
    "    dflineas2[\"Tipo2\"] += \"  \"\n",
    "\n",
    "    # 100-104 % DEDUCCION COMUNIDAD AUTONOMA\n",
    "    dflineas2[\"Tipo2\"] += \"     \"\n",
    "\n",
    "    # 105 NATURALEZA DEL DECLARADO\n",
    "    dflineas2[\"Tipo2\"] += \"F\"\n",
    "\n",
    "    #106 REVOCACION (¿Siempre en blanco? SI)\n",
    "    dflineas2[\"Tipo2\"] += \" \"\n",
    "\n",
    "    #107-110 REVOCACION \n",
    "    dflineas2[\"Tipo2\"] += \"0000\"\n",
    "\n",
    "    #111 TIPO DE BIEN\n",
    "    dflineas2[\"Tipo2\"] += \" \"\n",
    "\n",
    "    #112-131 IDENTIFICACION DEL BIEN\n",
    "    dflineas2[\"Tipo2\"] += \" \" * 20\n",
    "\n",
    "    #132 RECURRENCIA DONATIVOS\n",
    "    # Forzar conversion de bool --> 1 ó 2\n",
    "    dflineas2[\"Tipo2\"] += (mask_recurrentes * -1 + 2).astype(str)\n",
    "\n",
    "    #133-250 BLANCOS\n",
    "    dflineas2[\"Tipo2\"] += \" \" * 118\n",
    "    return dflineas2\n",
    "    \n",
    "def unir(linea1, dflineas2):\n",
    "    ### Putting all together: Añadir ```linea1``` on top de ```dfinal```\n",
    "    dflineas2.loc[-1] = [linea1]  # adding a row\n",
    "    dflineas2.index = dflineas2.index + 1  # shifting index\n",
    "    dflineas2.sort_index(inplace=True)\n",
    "\n",
    "    # dflineas2[\"Tipo2\"] = dflineas2[\"Tipo2\"].astype(str)\n",
    "    #dflineas2.to_csv(\"lala.csv\", header=None, columns=[\"Tipo2\"], index=False, encoding=\"utf-8\")\n",
    "    return dflineas2\n",
    "\n",
    "def convertir_iso8859(dfinal):\n",
    "    ### Conversión a ISO-8859-1\n",
    "    # Pasar a python list\n",
    "    registros = dfinal.loc[:, \"Tipo2\"].astype(str).to_list()\n",
    "\n",
    "    codecs.register_error('unidecode_fallback', unidecode_fallback)\n",
    "\n",
    "    registros = \"\\n\".join(registros)\n",
    "    s = registros.encode('iso-8859-1', errors='unidecode_fallback')\n",
    "    #print(s.decode('iso-8859-1'))\n",
    "    resultado = s.decode('iso-8859-1')\n",
    "\n",
    "    ### Guardar en fichero de texto\n",
    "    date = datetime.datetime.now().strftime(\"%Y%m%d_%H%M%S\")\n",
    "    with open(\"modelo182-\" + EJERCICIO + \"-\" + date + \".txt\", 'w') as out:\n",
    "        out.write(resultado)\n",
    "\n",
    "    print(usuarios_error)\n",
    "    return usuarios_error\n"
   ]
  },
  {
   "cell_type": "code",
   "execution_count": 28,
   "metadata": {},
   "outputs": [
    {
     "name": "stdout",
     "output_type": "stream",
     "text": [
      "{599: 'Ć', 763: 'Ė', 1466: 'Ř', 1680: 'Ć'}\n"
     ]
    }
   ],
   "source": [
    "df, dfyear1, dfyear2 = load_files()\n",
    "linea1    = reg_tipo1()\n",
    "dflineas2 = reg_tipo2()\n",
    "dfinal    = unir(linea1, dflineas2)\n",
    "errores   = convertir_iso8859(dfinal)"
   ]
  },
  {
   "cell_type": "code",
   "execution_count": null,
   "metadata": {},
   "outputs": [],
   "source": []
  }
 ],
 "metadata": {
  "colab": {
   "collapsed_sections": [],
   "name": "modelo182.ipynb",
   "provenance": []
  },
  "kernelspec": {
   "display_name": "Python 3",
   "language": "python",
   "name": "python3"
  },
  "language_info": {
   "codemirror_mode": {
    "name": "ipython",
    "version": 3
   },
   "file_extension": ".py",
   "mimetype": "text/x-python",
   "name": "python",
   "nbconvert_exporter": "python",
   "pygments_lexer": "ipython3",
   "version": "3.7.7"
  },
  "notify_time": "5",
  "varInspector": {
   "cols": {
    "lenName": 16,
    "lenType": 16,
    "lenVar": 40
   },
   "kernels_config": {
    "python": {
     "delete_cmd_postfix": "",
     "delete_cmd_prefix": "del ",
     "library": "var_list.py",
     "varRefreshCmd": "print(var_dic_list())"
    },
    "r": {
     "delete_cmd_postfix": ") ",
     "delete_cmd_prefix": "rm(",
     "library": "var_list.r",
     "varRefreshCmd": "cat(var_dic_list()) "
    }
   },
   "types_to_exclude": [
    "module",
    "function",
    "builtin_function_or_method",
    "instance",
    "_Feature"
   ],
   "window_display": false
  }
 },
 "nbformat": 4,
 "nbformat_minor": 4
}
